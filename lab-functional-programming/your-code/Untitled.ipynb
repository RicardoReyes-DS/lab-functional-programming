{
 "cells": [
  {
   "cell_type": "code",
   "execution_count": null,
   "id": "089fa222",
   "metadata": {},
   "outputs": [],
   "source": [
    "def gen_1(n):\n",
    "    n1 = 0\n",
    "    while n1 < n:\n",
    "        if n1 % 2 == 0:\n",
    "            yield n1\n",
    "            n1 += 1\n",
    "            \n",
    "x = gen_1(5)\n",
    "list(gen_1(5))"
   ]
  },
  {
   "cell_type": "code",
   "execution_count": null,
   "id": "bcd20484",
   "metadata": {},
   "outputs": [],
   "source": []
  }
 ],
 "metadata": {
  "kernelspec": {
   "display_name": "Python 3",
   "language": "python",
   "name": "python3"
  },
  "language_info": {
   "codemirror_mode": {
    "name": "ipython",
    "version": 3
   },
   "file_extension": ".py",
   "mimetype": "text/x-python",
   "name": "python",
   "nbconvert_exporter": "python",
   "pygments_lexer": "ipython3",
   "version": "3.9.4"
  }
 },
 "nbformat": 4,
 "nbformat_minor": 5
}
