{
 "cells": [
  {
   "cell_type": "markdown",
   "metadata": {},
   "source": [
    "# Before your start:\n",
    "- Read the README.md file\n",
    "- Comment as much as you can and use the resources in the README.md file\n",
    "- Happy learning!"
   ]
  },
  {
   "cell_type": "code",
   "execution_count": 20,
   "metadata": {},
   "outputs": [],
   "source": [
    "import numpy as np\n",
    "import pandas as pd"
   ]
  },
  {
   "cell_type": "markdown",
   "metadata": {},
   "source": [
    "# Challenge 1 - Iterators, Generators and `yield`. \n",
    "\n",
    "In iterator in Python is an object that represents a stream of data. However, iterators contain a countable number of values. We traverse through the iterator and return one value at a time. All iterators support a `next` function that allows us to traverse through the iterator. We can create an iterator using the `iter` function that comes with the base package of Python. Below is an example of an iterator."
   ]
  },
  {
   "cell_type": "code",
   "execution_count": null,
   "metadata": {},
   "outputs": [],
   "source": [
    "# We first define our iterator:\n",
    "\n",
    "iterator = iter([1,2,3])\n",
    "\n",
    "# We can now iterate through the object using the next function\n",
    "\n",
    "print(next(iterator))"
   ]
  },
  {
   "cell_type": "code",
   "execution_count": null,
   "metadata": {},
   "outputs": [],
   "source": [
    "# We continue to iterate through the iterator.\n",
    "\n",
    "print(next(iterator))"
   ]
  },
  {
   "cell_type": "code",
   "execution_count": null,
   "metadata": {},
   "outputs": [],
   "source": [
    "print(next(iterator))"
   ]
  },
  {
   "cell_type": "code",
   "execution_count": null,
   "metadata": {},
   "outputs": [],
   "source": [
    "# After we have iterated through all elements, we will get a StopIteration Error\n",
    "\n",
    "print(next(iterator))"
   ]
  },
  {
   "cell_type": "code",
   "execution_count": null,
   "metadata": {},
   "outputs": [],
   "source": [
    "# We can also iterate through an iterator using a for loop like this:\n",
    "# Note: we cannot go back directly in an iterator once we have traversed through the elements. \n",
    "# This is why we are redefining the iterator below\n",
    "\n",
    "iterator = iter([1,2,3])\n",
    "\n",
    "for i in iterator:\n",
    "    print(i)"
   ]
  },
  {
   "cell_type": "markdown",
   "metadata": {},
   "source": [
    "In the cell below, write a function that takes and returns the first element in the iterator that is divisible by 2. Assume that all iterators contain only numeric data. If we have not found a single element that is divisible by 2, return zero."
   ]
  },
  {
   "cell_type": "code",
   "execution_count": null,
   "metadata": {},
   "outputs": [],
   "source": [
    "    # This function takes an iterable and returns the first element that is divisible by 2 and zero otherwise\n",
    "    # Input: Iterable\n",
    "    # Output: Integer\n",
    "    \n",
    "    # Sample Input: iter([1,2,3])\n",
    "    # Sample Output: 2\n",
    "    \n",
    "    # Your code here:"
   ]
  },
  {
   "cell_type": "code",
   "execution_count": null,
   "metadata": {},
   "outputs": [],
   "source": [
    "x = iter([1,2,3])\n",
    "\n",
    "def divisible2(iterator):\n",
    "    for i in iterator:\n",
    "        if i % 2 == 0:\n",
    "            yield i\n",
    "\n",
    "list(divisible2(x))"
   ]
  },
  {
   "cell_type": "markdown",
   "metadata": {},
   "source": [
    "### Generators\n",
    "\n",
    "It is quite difficult to create your own iterator since you would have to implement a `next` function. Generators are functions that enable us to create iterators. The difference between a function and a generator is that instead of using `return`, we use `yield`. For example, below we have a function that returns an iterator containing the numbers 0 through n:"
   ]
  },
  {
   "cell_type": "code",
   "execution_count": null,
   "metadata": {},
   "outputs": [],
   "source": [
    "def firstn(n):\n",
    "     number = 0\n",
    "     while number < n:\n",
    "         yield number\n",
    "         number = number + 1"
   ]
  },
  {
   "cell_type": "markdown",
   "metadata": {},
   "source": [
    "If we pass 5 to the function, we will see that we have a iterator containing the numbers 0 through 4."
   ]
  },
  {
   "cell_type": "code",
   "execution_count": null,
   "metadata": {},
   "outputs": [],
   "source": [
    "iterator = firstn(5)\n",
    "\n",
    "for i in iterator:\n",
    "    print(i)"
   ]
  },
  {
   "cell_type": "markdown",
   "metadata": {},
   "source": [
    "In the cell below, create a generator that takes a number and returns an iterator containing all even numbers between 0 and the number you passed to the generator."
   ]
  },
  {
   "cell_type": "code",
   "execution_count": null,
   "metadata": {},
   "outputs": [],
   "source": [
    "    # This function produces an iterator containing all even numbers between 0 and n\n",
    "    # Input: integer\n",
    "    # Output: iterator\n",
    "    \n",
    "    # Sample Input: 5\n",
    "    # Sample Output: iter([0, 2, 4])\n",
    "    \n",
    "    # Your code here:"
   ]
  },
  {
   "cell_type": "code",
   "execution_count": 4,
   "metadata": {},
   "outputs": [
    {
     "data": {
      "text/plain": [
       "[0, 2, 4]"
      ]
     },
     "execution_count": 4,
     "metadata": {},
     "output_type": "execute_result"
    }
   ],
   "source": [
    "def gen_1(n):\n",
    "    for i in range(n):\n",
    "        if i % 2 == 0:\n",
    "            yield i\n",
    "            \n",
    "list(gen_1(5))\n"
   ]
  },
  {
   "cell_type": "markdown",
   "metadata": {},
   "source": [
    "# Challenge 2 - Applying Functions to DataFrames\n",
    "\n",
    "In this challenge, we will look at how to transform cells or entire columns at once.\n",
    "\n",
    "First, let's load a dataset. We will download the famous Iris classification dataset in the cell below."
   ]
  },
  {
   "cell_type": "code",
   "execution_count": 7,
   "metadata": {},
   "outputs": [],
   "source": [
    "columns = ['sepal_length', 'sepal_width', 'petal_length','petal_width','iris_type']\n",
    "iris = pd.read_csv(\"https://archive.ics.uci.edu/ml/machine-learning-databases/iris/iris.data\", names=columns)"
   ]
  },
  {
   "cell_type": "markdown",
   "metadata": {},
   "source": [
    "Let's look at the dataset using the `head` function."
   ]
  },
  {
   "cell_type": "code",
   "execution_count": 8,
   "metadata": {},
   "outputs": [
    {
     "data": {
      "text/html": [
       "<div>\n",
       "<style scoped>\n",
       "    .dataframe tbody tr th:only-of-type {\n",
       "        vertical-align: middle;\n",
       "    }\n",
       "\n",
       "    .dataframe tbody tr th {\n",
       "        vertical-align: top;\n",
       "    }\n",
       "\n",
       "    .dataframe thead th {\n",
       "        text-align: right;\n",
       "    }\n",
       "</style>\n",
       "<table border=\"1\" class=\"dataframe\">\n",
       "  <thead>\n",
       "    <tr style=\"text-align: right;\">\n",
       "      <th></th>\n",
       "      <th>sepal_length</th>\n",
       "      <th>sepal_width</th>\n",
       "      <th>petal_length</th>\n",
       "      <th>petal_width</th>\n",
       "      <th>iris_type</th>\n",
       "    </tr>\n",
       "  </thead>\n",
       "  <tbody>\n",
       "    <tr>\n",
       "      <th>0</th>\n",
       "      <td>5.1</td>\n",
       "      <td>3.5</td>\n",
       "      <td>1.4</td>\n",
       "      <td>0.2</td>\n",
       "      <td>Iris-setosa</td>\n",
       "    </tr>\n",
       "    <tr>\n",
       "      <th>1</th>\n",
       "      <td>4.9</td>\n",
       "      <td>3.0</td>\n",
       "      <td>1.4</td>\n",
       "      <td>0.2</td>\n",
       "      <td>Iris-setosa</td>\n",
       "    </tr>\n",
       "    <tr>\n",
       "      <th>2</th>\n",
       "      <td>4.7</td>\n",
       "      <td>3.2</td>\n",
       "      <td>1.3</td>\n",
       "      <td>0.2</td>\n",
       "      <td>Iris-setosa</td>\n",
       "    </tr>\n",
       "    <tr>\n",
       "      <th>3</th>\n",
       "      <td>4.6</td>\n",
       "      <td>3.1</td>\n",
       "      <td>1.5</td>\n",
       "      <td>0.2</td>\n",
       "      <td>Iris-setosa</td>\n",
       "    </tr>\n",
       "    <tr>\n",
       "      <th>4</th>\n",
       "      <td>5.0</td>\n",
       "      <td>3.6</td>\n",
       "      <td>1.4</td>\n",
       "      <td>0.2</td>\n",
       "      <td>Iris-setosa</td>\n",
       "    </tr>\n",
       "  </tbody>\n",
       "</table>\n",
       "</div>"
      ],
      "text/plain": [
       "   sepal_length  sepal_width  petal_length  petal_width    iris_type\n",
       "0           5.1          3.5           1.4          0.2  Iris-setosa\n",
       "1           4.9          3.0           1.4          0.2  Iris-setosa\n",
       "2           4.7          3.2           1.3          0.2  Iris-setosa\n",
       "3           4.6          3.1           1.5          0.2  Iris-setosa\n",
       "4           5.0          3.6           1.4          0.2  Iris-setosa"
      ]
     },
     "execution_count": 8,
     "metadata": {},
     "output_type": "execute_result"
    }
   ],
   "source": [
    "# Your code here:\n",
    "\n",
    "iris.head()"
   ]
  },
  {
   "cell_type": "markdown",
   "metadata": {},
   "source": [
    "Let's start off by using built-in functions. Try to apply the numpy mean function and describe what happens in the comments of the code."
   ]
  },
  {
   "cell_type": "code",
   "execution_count": 25,
   "metadata": {},
   "outputs": [
    {
     "data": {
      "text/plain": [
       "sepal_length    5.843333\n",
       "sepal_width     3.054000\n",
       "petal_length    3.758667\n",
       "petal_width     1.198667\n",
       "dtype: float64"
      ]
     },
     "execution_count": 25,
     "metadata": {},
     "output_type": "execute_result"
    }
   ],
   "source": [
    "# Your code here\n",
    "\n",
    "np.mean(iris)"
   ]
  },
  {
   "cell_type": "markdown",
   "metadata": {},
   "source": [
    "Next, we'll apply the standard deviation function in numpy (`np.std`). Describe what happened in the comments."
   ]
  },
  {
   "cell_type": "code",
   "execution_count": 26,
   "metadata": {},
   "outputs": [
    {
     "data": {
      "text/plain": [
       "sepal_length    0.825301\n",
       "sepal_width     0.432147\n",
       "petal_length    1.758529\n",
       "petal_width     0.760613\n",
       "dtype: float64"
      ]
     },
     "execution_count": 26,
     "metadata": {},
     "output_type": "execute_result"
    }
   ],
   "source": [
    "# Your code here:\n",
    "\n",
    "np.std(iris)"
   ]
  },
  {
   "cell_type": "markdown",
   "metadata": {},
   "source": [
    "The measurements are in centimeters. Let's convert them all to inches. First, we will create a dataframe that contains only the numeric columns. Assign this new dataframe to `iris_numeric`."
   ]
  },
  {
   "cell_type": "code",
   "execution_count": 125,
   "metadata": {},
   "outputs": [
    {
     "data": {
      "text/html": [
       "<div>\n",
       "<style scoped>\n",
       "    .dataframe tbody tr th:only-of-type {\n",
       "        vertical-align: middle;\n",
       "    }\n",
       "\n",
       "    .dataframe tbody tr th {\n",
       "        vertical-align: top;\n",
       "    }\n",
       "\n",
       "    .dataframe thead th {\n",
       "        text-align: right;\n",
       "    }\n",
       "</style>\n",
       "<table border=\"1\" class=\"dataframe\">\n",
       "  <thead>\n",
       "    <tr style=\"text-align: right;\">\n",
       "      <th></th>\n",
       "      <th>sepal_length</th>\n",
       "      <th>sepal_width</th>\n",
       "      <th>petal_length</th>\n",
       "      <th>petal_width</th>\n",
       "    </tr>\n",
       "  </thead>\n",
       "  <tbody>\n",
       "    <tr>\n",
       "      <th>0</th>\n",
       "      <td>5.1</td>\n",
       "      <td>3.5</td>\n",
       "      <td>1.4</td>\n",
       "      <td>0.2</td>\n",
       "    </tr>\n",
       "    <tr>\n",
       "      <th>1</th>\n",
       "      <td>4.9</td>\n",
       "      <td>3.0</td>\n",
       "      <td>1.4</td>\n",
       "      <td>0.2</td>\n",
       "    </tr>\n",
       "    <tr>\n",
       "      <th>2</th>\n",
       "      <td>4.7</td>\n",
       "      <td>3.2</td>\n",
       "      <td>1.3</td>\n",
       "      <td>0.2</td>\n",
       "    </tr>\n",
       "    <tr>\n",
       "      <th>3</th>\n",
       "      <td>4.6</td>\n",
       "      <td>3.1</td>\n",
       "      <td>1.5</td>\n",
       "      <td>0.2</td>\n",
       "    </tr>\n",
       "    <tr>\n",
       "      <th>4</th>\n",
       "      <td>5.0</td>\n",
       "      <td>3.6</td>\n",
       "      <td>1.4</td>\n",
       "      <td>0.2</td>\n",
       "    </tr>\n",
       "  </tbody>\n",
       "</table>\n",
       "</div>"
      ],
      "text/plain": [
       "   sepal_length  sepal_width  petal_length  petal_width\n",
       "0           5.1          3.5           1.4          0.2\n",
       "1           4.9          3.0           1.4          0.2\n",
       "2           4.7          3.2           1.3          0.2\n",
       "3           4.6          3.1           1.5          0.2\n",
       "4           5.0          3.6           1.4          0.2"
      ]
     },
     "execution_count": 125,
     "metadata": {},
     "output_type": "execute_result"
    }
   ],
   "source": [
    "# Your code here:\n",
    "\n",
    "iris_numeric = iris._get_numeric_data()\n",
    "\n",
    "iris_numeric.head()"
   ]
  },
  {
   "cell_type": "markdown",
   "metadata": {},
   "source": [
    "Next, we will write a function that converts centimeters to inches in the cell below. Recall that 1cm = 0.393701in."
   ]
  },
  {
   "cell_type": "code",
   "execution_count": 200,
   "metadata": {},
   "outputs": [],
   "source": [
    "def cm_to_in(x):\n",
    "    # This function takes in a numeric value in centimeters and converts it to inches\n",
    "    # Input: numeric value\n",
    "    # Output: float\n",
    "    \n",
    "    # Sample Input: 1.0\n",
    "    # Sample Output: 0.393701\n",
    "    \n",
    "    # Your code here:\n",
    "    tr = 0.393701\n",
    "    yield x * tr"
   ]
  },
  {
   "cell_type": "markdown",
   "metadata": {},
   "source": [
    "Now convert all columns in `iris_numeric` to inches in the cell below. We like to think of functional transformations as immutable. Therefore, save the transformed data in a dataframe called `iris_inch`."
   ]
  },
  {
   "cell_type": "code",
   "execution_count": 201,
   "metadata": {},
   "outputs": [
    {
     "data": {
      "text/html": [
       "<div>\n",
       "<style scoped>\n",
       "    .dataframe tbody tr th:only-of-type {\n",
       "        vertical-align: middle;\n",
       "    }\n",
       "\n",
       "    .dataframe tbody tr th {\n",
       "        vertical-align: top;\n",
       "    }\n",
       "\n",
       "    .dataframe thead th {\n",
       "        text-align: right;\n",
       "    }\n",
       "</style>\n",
       "<table border=\"1\" class=\"dataframe\">\n",
       "  <thead>\n",
       "    <tr style=\"text-align: right;\">\n",
       "      <th></th>\n",
       "      <th>sepal_length</th>\n",
       "      <th>sepal_width</th>\n",
       "      <th>petal_length</th>\n",
       "      <th>petal_width</th>\n",
       "    </tr>\n",
       "  </thead>\n",
       "  <tbody>\n",
       "    <tr>\n",
       "      <th>0</th>\n",
       "      <td>&lt;generator object cm_to_in at 0x000001F3FDE6D7B0&gt;</td>\n",
       "      <td>&lt;generator object cm_to_in at 0x000001F3FDB70740&gt;</td>\n",
       "      <td>&lt;generator object cm_to_in at 0x000001F3FDB5A9E0&gt;</td>\n",
       "      <td>&lt;generator object cm_to_in at 0x000001F3FDB72C80&gt;</td>\n",
       "    </tr>\n",
       "    <tr>\n",
       "      <th>1</th>\n",
       "      <td>&lt;generator object cm_to_in at 0x000001F3FDE6D820&gt;</td>\n",
       "      <td>&lt;generator object cm_to_in at 0x000001F3FDB707B0&gt;</td>\n",
       "      <td>&lt;generator object cm_to_in at 0x000001F3FDB5AA50&gt;</td>\n",
       "      <td>&lt;generator object cm_to_in at 0x000001F3FDB72CF0&gt;</td>\n",
       "    </tr>\n",
       "    <tr>\n",
       "      <th>2</th>\n",
       "      <td>&lt;generator object cm_to_in at 0x000001F3FDE6D890&gt;</td>\n",
       "      <td>&lt;generator object cm_to_in at 0x000001F3FDB70820&gt;</td>\n",
       "      <td>&lt;generator object cm_to_in at 0x000001F3FDB5AAC0&gt;</td>\n",
       "      <td>&lt;generator object cm_to_in at 0x000001F3FDB72D60&gt;</td>\n",
       "    </tr>\n",
       "    <tr>\n",
       "      <th>3</th>\n",
       "      <td>&lt;generator object cm_to_in at 0x000001F3FDE6D900&gt;</td>\n",
       "      <td>&lt;generator object cm_to_in at 0x000001F3FDB70890&gt;</td>\n",
       "      <td>&lt;generator object cm_to_in at 0x000001F3FDB5AB30&gt;</td>\n",
       "      <td>&lt;generator object cm_to_in at 0x000001F3FDB72DD0&gt;</td>\n",
       "    </tr>\n",
       "    <tr>\n",
       "      <th>4</th>\n",
       "      <td>&lt;generator object cm_to_in at 0x000001F3FDE6D970&gt;</td>\n",
       "      <td>&lt;generator object cm_to_in at 0x000001F3FDB70900&gt;</td>\n",
       "      <td>&lt;generator object cm_to_in at 0x000001F3FDB5ABA0&gt;</td>\n",
       "      <td>&lt;generator object cm_to_in at 0x000001F3FDB72E40&gt;</td>\n",
       "    </tr>\n",
       "    <tr>\n",
       "      <th>...</th>\n",
       "      <td>...</td>\n",
       "      <td>...</td>\n",
       "      <td>...</td>\n",
       "      <td>...</td>\n",
       "    </tr>\n",
       "    <tr>\n",
       "      <th>145</th>\n",
       "      <td>&lt;generator object cm_to_in at 0x000001F3FDB70510&gt;</td>\n",
       "      <td>&lt;generator object cm_to_in at 0x000001F3FDB5A7B0&gt;</td>\n",
       "      <td>&lt;generator object cm_to_in at 0x000001F3FDB72A50&gt;</td>\n",
       "      <td>&lt;generator object cm_to_in at 0x000001F3FDE18CF0&gt;</td>\n",
       "    </tr>\n",
       "    <tr>\n",
       "      <th>146</th>\n",
       "      <td>&lt;generator object cm_to_in at 0x000001F3FDB70580&gt;</td>\n",
       "      <td>&lt;generator object cm_to_in at 0x000001F3FDB5A820&gt;</td>\n",
       "      <td>&lt;generator object cm_to_in at 0x000001F3FDB72AC0&gt;</td>\n",
       "      <td>&lt;generator object cm_to_in at 0x000001F3FDE18D60&gt;</td>\n",
       "    </tr>\n",
       "    <tr>\n",
       "      <th>147</th>\n",
       "      <td>&lt;generator object cm_to_in at 0x000001F3FDB705F0&gt;</td>\n",
       "      <td>&lt;generator object cm_to_in at 0x000001F3FDB5A890&gt;</td>\n",
       "      <td>&lt;generator object cm_to_in at 0x000001F3FDB72B30&gt;</td>\n",
       "      <td>&lt;generator object cm_to_in at 0x000001F3FDE18DD0&gt;</td>\n",
       "    </tr>\n",
       "    <tr>\n",
       "      <th>148</th>\n",
       "      <td>&lt;generator object cm_to_in at 0x000001F3FDB70660&gt;</td>\n",
       "      <td>&lt;generator object cm_to_in at 0x000001F3FDB5A900&gt;</td>\n",
       "      <td>&lt;generator object cm_to_in at 0x000001F3FDB72BA0&gt;</td>\n",
       "      <td>&lt;generator object cm_to_in at 0x000001F3FDE18E40&gt;</td>\n",
       "    </tr>\n",
       "    <tr>\n",
       "      <th>149</th>\n",
       "      <td>&lt;generator object cm_to_in at 0x000001F3FDB706D0&gt;</td>\n",
       "      <td>&lt;generator object cm_to_in at 0x000001F3FDB5A970&gt;</td>\n",
       "      <td>&lt;generator object cm_to_in at 0x000001F3FDB72C10&gt;</td>\n",
       "      <td>&lt;generator object cm_to_in at 0x000001F3FDE18EB0&gt;</td>\n",
       "    </tr>\n",
       "  </tbody>\n",
       "</table>\n",
       "<p>150 rows × 4 columns</p>\n",
       "</div>"
      ],
      "text/plain": [
       "                                          sepal_length  \\\n",
       "0    <generator object cm_to_in at 0x000001F3FDE6D7B0>   \n",
       "1    <generator object cm_to_in at 0x000001F3FDE6D820>   \n",
       "2    <generator object cm_to_in at 0x000001F3FDE6D890>   \n",
       "3    <generator object cm_to_in at 0x000001F3FDE6D900>   \n",
       "4    <generator object cm_to_in at 0x000001F3FDE6D970>   \n",
       "..                                                 ...   \n",
       "145  <generator object cm_to_in at 0x000001F3FDB70510>   \n",
       "146  <generator object cm_to_in at 0x000001F3FDB70580>   \n",
       "147  <generator object cm_to_in at 0x000001F3FDB705F0>   \n",
       "148  <generator object cm_to_in at 0x000001F3FDB70660>   \n",
       "149  <generator object cm_to_in at 0x000001F3FDB706D0>   \n",
       "\n",
       "                                           sepal_width  \\\n",
       "0    <generator object cm_to_in at 0x000001F3FDB70740>   \n",
       "1    <generator object cm_to_in at 0x000001F3FDB707B0>   \n",
       "2    <generator object cm_to_in at 0x000001F3FDB70820>   \n",
       "3    <generator object cm_to_in at 0x000001F3FDB70890>   \n",
       "4    <generator object cm_to_in at 0x000001F3FDB70900>   \n",
       "..                                                 ...   \n",
       "145  <generator object cm_to_in at 0x000001F3FDB5A7B0>   \n",
       "146  <generator object cm_to_in at 0x000001F3FDB5A820>   \n",
       "147  <generator object cm_to_in at 0x000001F3FDB5A890>   \n",
       "148  <generator object cm_to_in at 0x000001F3FDB5A900>   \n",
       "149  <generator object cm_to_in at 0x000001F3FDB5A970>   \n",
       "\n",
       "                                          petal_length  \\\n",
       "0    <generator object cm_to_in at 0x000001F3FDB5A9E0>   \n",
       "1    <generator object cm_to_in at 0x000001F3FDB5AA50>   \n",
       "2    <generator object cm_to_in at 0x000001F3FDB5AAC0>   \n",
       "3    <generator object cm_to_in at 0x000001F3FDB5AB30>   \n",
       "4    <generator object cm_to_in at 0x000001F3FDB5ABA0>   \n",
       "..                                                 ...   \n",
       "145  <generator object cm_to_in at 0x000001F3FDB72A50>   \n",
       "146  <generator object cm_to_in at 0x000001F3FDB72AC0>   \n",
       "147  <generator object cm_to_in at 0x000001F3FDB72B30>   \n",
       "148  <generator object cm_to_in at 0x000001F3FDB72BA0>   \n",
       "149  <generator object cm_to_in at 0x000001F3FDB72C10>   \n",
       "\n",
       "                                           petal_width  \n",
       "0    <generator object cm_to_in at 0x000001F3FDB72C80>  \n",
       "1    <generator object cm_to_in at 0x000001F3FDB72CF0>  \n",
       "2    <generator object cm_to_in at 0x000001F3FDB72D60>  \n",
       "3    <generator object cm_to_in at 0x000001F3FDB72DD0>  \n",
       "4    <generator object cm_to_in at 0x000001F3FDB72E40>  \n",
       "..                                                 ...  \n",
       "145  <generator object cm_to_in at 0x000001F3FDE18CF0>  \n",
       "146  <generator object cm_to_in at 0x000001F3FDE18D60>  \n",
       "147  <generator object cm_to_in at 0x000001F3FDE18DD0>  \n",
       "148  <generator object cm_to_in at 0x000001F3FDE18E40>  \n",
       "149  <generator object cm_to_in at 0x000001F3FDE18EB0>  \n",
       "\n",
       "[150 rows x 4 columns]"
      ]
     },
     "execution_count": 201,
     "metadata": {},
     "output_type": "execute_result"
    }
   ],
   "source": [
    "#Prueba 1, voler a este ejercicio para convertir objetos \n",
    "\n",
    "x = iris_numeric.applymap(cm_to_in)\n",
    "x"
   ]
  },
  {
   "cell_type": "code",
   "execution_count": 202,
   "metadata": {},
   "outputs": [
    {
     "data": {
      "text/plain": [
       "[     sepal_length  sepal_width  petal_length  petal_width\n",
       " 0        3.582679     2.952758      2.125985     1.653544\n",
       " 1        3.503939     2.755907      2.125985     1.653544\n",
       " 2        3.425199     2.834647      2.086615     1.653544\n",
       " 3        3.385829     2.795277      2.165355     1.653544\n",
       " 4        3.543309     2.992128      2.125985     1.653544\n",
       " ..            ...          ...           ...          ...\n",
       " 145      4.212601     2.755907      3.622049     2.480316\n",
       " 146      4.055120     2.559057      3.543309     2.322836\n",
       " 147      4.133860     2.755907      3.622049     2.362206\n",
       " 148      4.015750     2.913387      3.700789     2.480316\n",
       " 149      3.897640     2.755907      3.582679     2.283466\n",
       " \n",
       " [150 rows x 4 columns]]"
      ]
     },
     "execution_count": 202,
     "metadata": {},
     "output_type": "execute_result"
    }
   ],
   "source": [
    "# Your code here:\n",
    "\n",
    "iris_inch = cm_to_in(iris_numeric)\n",
    "\n",
    "list(iris_inch)\n"
   ]
  },
  {
   "cell_type": "markdown",
   "metadata": {},
   "source": [
    "We have just found that the original measurements were off by a constant. Define the global constant `error` and set it to 2. Write a function that uses the global constant and adds it to each cell in the dataframe. Apply this function to `iris_numeric` and save the result in `iris_constant`."
   ]
  },
  {
   "cell_type": "code",
   "execution_count": 175,
   "metadata": {},
   "outputs": [],
   "source": [
    "# Define constant below:\n",
    "\n",
    "\n",
    "def add_constant(x):\n",
    "    # This function adds a global constant to our input.\n",
    "    # Input: numeric value\n",
    "    # Output: numeric value\n",
    "    \n",
    "    # Your code here:\n",
    "    error = 2\n",
    "    x += error\n",
    "    yield x "
   ]
  },
  {
   "cell_type": "code",
   "execution_count": 170,
   "metadata": {},
   "outputs": [
    {
     "data": {
      "text/plain": [
       "[     sepal_length  sepal_width  petal_length  petal_width\n",
       " 0             9.1          7.5           5.4          4.2\n",
       " 1             8.9          7.0           5.4          4.2\n",
       " 2             8.7          7.2           5.3          4.2\n",
       " 3             8.6          7.1           5.5          4.2\n",
       " 4             9.0          7.6           5.4          4.2\n",
       " ..            ...          ...           ...          ...\n",
       " 145          10.7          7.0           9.2          6.3\n",
       " 146          10.3          6.5           9.0          5.9\n",
       " 147          10.5          7.0           9.2          6.0\n",
       " 148          10.2          7.4           9.4          6.3\n",
       " 149           9.9          7.0           9.1          5.8\n",
       " \n",
       " [150 rows x 4 columns]]"
      ]
     },
     "execution_count": 170,
     "metadata": {},
     "output_type": "execute_result"
    }
   ],
   "source": [
    "iris_constant = add_constant(iris_numeric)\n",
    "\n",
    "list(iris_constant)"
   ]
  },
  {
   "cell_type": "markdown",
   "metadata": {},
   "source": [
    "# Bonus Challenge - Applying Functions to Columns\n",
    "\n",
    "Read more about applying functions to either rows or columns [here](https://pandas.pydata.org/pandas-docs/stable/generated/pandas.DataFrame.apply.html) and write a function that computes the maximum value for each row of `iris_numeric`"
   ]
  },
  {
   "cell_type": "code",
   "execution_count": 188,
   "metadata": {},
   "outputs": [
    {
     "data": {
      "text/plain": [
       "sepal_length    11.9\n",
       "sepal_width      8.4\n",
       "petal_length    10.9\n",
       "petal_width      6.5\n",
       "dtype: float64"
      ]
     },
     "execution_count": 188,
     "metadata": {},
     "output_type": "execute_result"
    }
   ],
   "source": [
    "# Your code here:\n",
    "\n",
    "max_v = iris_numeric.apply(max)\n",
    "max_v"
   ]
  },
  {
   "cell_type": "markdown",
   "metadata": {},
   "source": [
    "Compute the combined lengths for each row and the combined widths for each row using a function. Assign these values to new columns `total_length` and `total_width`."
   ]
  },
  {
   "cell_type": "code",
   "execution_count": 219,
   "metadata": {},
   "outputs": [
    {
     "name": "stdout",
     "output_type": "stream",
     "text": [
      "(150, 4)\n"
     ]
    }
   ],
   "source": [
    "# Your code here:\n",
    "\n",
    "shape = np.shape(iris_numeric)\n",
    "print(shape)"
   ]
  },
  {
   "cell_type": "code",
   "execution_count": 221,
   "metadata": {},
   "outputs": [
    {
     "name": "stdout",
     "output_type": "stream",
     "text": [
      "150\n"
     ]
    }
   ],
   "source": [
    "total_lenght = len(iris_numeric)\n",
    "print(total_lenght)"
   ]
  },
  {
   "cell_type": "code",
   "execution_count": 228,
   "metadata": {},
   "outputs": [
    {
     "name": "stdout",
     "output_type": "stream",
     "text": [
      "4\n"
     ]
    }
   ],
   "source": [
    "total_width = len(iris_numeric.columns)\n",
    "print(total_width)"
   ]
  },
  {
   "cell_type": "code",
   "execution_count": null,
   "metadata": {},
   "outputs": [],
   "source": []
  }
 ],
 "metadata": {
  "kernelspec": {
   "display_name": "Python 3",
   "language": "python",
   "name": "python3"
  },
  "language_info": {
   "codemirror_mode": {
    "name": "ipython",
    "version": 3
   },
   "file_extension": ".py",
   "mimetype": "text/x-python",
   "name": "python",
   "nbconvert_exporter": "python",
   "pygments_lexer": "ipython3",
   "version": "3.9.4"
  }
 },
 "nbformat": 4,
 "nbformat_minor": 2
}
